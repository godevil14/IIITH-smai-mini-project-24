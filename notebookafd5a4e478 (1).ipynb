{
 "cells": [
  {
   "cell_type": "code",
   "execution_count": 1,
   "id": "fa6548b4",
   "metadata": {
    "_cell_guid": "b1076dfc-b9ad-4769-8c92-a6c4dae69d19",
    "_uuid": "8f2839f25d086af736a60e9eeb907d3b93b6e0e5",
    "execution": {
     "iopub.execute_input": "2024-05-18T19:47:29.152043Z",
     "iopub.status.busy": "2024-05-18T19:47:29.151650Z",
     "iopub.status.idle": "2024-05-18T20:20:12.754027Z",
     "shell.execute_reply": "2024-05-18T20:20:12.752785Z"
    },
    "papermill": {
     "duration": 1963.608292,
     "end_time": "2024-05-18T20:20:12.756262",
     "exception": false,
     "start_time": "2024-05-18T19:47:29.147970",
     "status": "completed"
    },
    "tags": []
   },
   "outputs": [
    {
     "name": "stderr",
     "output_type": "stream",
     "text": [
      "/opt/conda/lib/python3.10/site-packages/torchvision/models/_utils.py:208: UserWarning: The parameter 'pretrained' is deprecated since 0.13 and may be removed in the future, please use 'weights' instead.\n",
      "  warnings.warn(\n",
      "/opt/conda/lib/python3.10/site-packages/torchvision/models/_utils.py:223: UserWarning: Arguments other than a weight enum or `None` for 'weights' are deprecated since 0.13 and may be removed in the future. The current behavior is equivalent to passing `weights=ResNet34_Weights.IMAGENET1K_V1`. You can also use `weights=ResNet34_Weights.DEFAULT` to get the most up-to-date weights.\n",
      "  warnings.warn(msg)\n",
      "Downloading: \"https://download.pytorch.org/models/resnet34-b627a593.pth\" to /root/.cache/torch/hub/checkpoints/resnet34-b627a593.pth\n",
      "100%|██████████| 83.3M/83.3M [00:00<00:00, 90.3MB/s]\n",
      "100%|██████████| 267/267 [00:41<00:00,  6.47it/s]\n",
      "100%|██████████| 67/67 [00:09<00:00,  7.14it/s]\n"
     ]
    },
    {
     "name": "stdout",
     "output_type": "stream",
     "text": [
      "Epoch 1, Training Loss: 539.2432, Validation Loss: 275.6130\n"
     ]
    },
    {
     "name": "stderr",
     "output_type": "stream",
     "text": [
      "100%|██████████| 31/31 [00:04<00:00,  7.02it/s]\n",
      "100%|██████████| 267/267 [00:39<00:00,  6.74it/s]\n",
      "100%|██████████| 67/67 [00:05<00:00, 11.39it/s]\n"
     ]
    },
    {
     "name": "stdout",
     "output_type": "stream",
     "text": [
      "Epoch 2, Training Loss: 113.7068, Validation Loss: 71.8692\n"
     ]
    },
    {
     "name": "stderr",
     "output_type": "stream",
     "text": [
      "100%|██████████| 31/31 [00:02<00:00, 10.89it/s]\n",
      "100%|██████████| 267/267 [00:39<00:00,  6.75it/s]\n",
      "100%|██████████| 67/67 [00:06<00:00, 10.57it/s]\n"
     ]
    },
    {
     "name": "stdout",
     "output_type": "stream",
     "text": [
      "Epoch 3, Training Loss: 37.1229, Validation Loss: 52.3290\n"
     ]
    },
    {
     "name": "stderr",
     "output_type": "stream",
     "text": [
      "100%|██████████| 31/31 [00:02<00:00, 11.16it/s]\n",
      "100%|██████████| 267/267 [00:39<00:00,  6.76it/s]\n",
      "100%|██████████| 67/67 [00:06<00:00, 10.68it/s]\n"
     ]
    },
    {
     "name": "stdout",
     "output_type": "stream",
     "text": [
      "Epoch 4, Training Loss: 25.4616, Validation Loss: 56.3968\n"
     ]
    },
    {
     "name": "stderr",
     "output_type": "stream",
     "text": [
      "100%|██████████| 31/31 [00:02<00:00, 10.66it/s]\n",
      "100%|██████████| 267/267 [00:39<00:00,  6.76it/s]\n",
      "100%|██████████| 67/67 [00:05<00:00, 11.20it/s]\n"
     ]
    },
    {
     "name": "stdout",
     "output_type": "stream",
     "text": [
      "Epoch 5, Training Loss: 17.3835, Validation Loss: 53.2633\n"
     ]
    },
    {
     "name": "stderr",
     "output_type": "stream",
     "text": [
      "100%|██████████| 31/31 [00:02<00:00, 10.55it/s]\n",
      "100%|██████████| 267/267 [00:39<00:00,  6.76it/s]\n",
      "100%|██████████| 67/67 [00:05<00:00, 11.30it/s]\n"
     ]
    },
    {
     "name": "stdout",
     "output_type": "stream",
     "text": [
      "Epoch 6, Training Loss: 12.9492, Validation Loss: 51.1041\n"
     ]
    },
    {
     "name": "stderr",
     "output_type": "stream",
     "text": [
      "100%|██████████| 31/31 [00:02<00:00, 10.41it/s]\n",
      "100%|██████████| 267/267 [00:39<00:00,  6.75it/s]\n",
      "100%|██████████| 67/67 [00:06<00:00, 10.82it/s]\n"
     ]
    },
    {
     "name": "stdout",
     "output_type": "stream",
     "text": [
      "Epoch 7, Training Loss: 10.7487, Validation Loss: 54.4057\n"
     ]
    },
    {
     "name": "stderr",
     "output_type": "stream",
     "text": [
      "100%|██████████| 31/31 [00:03<00:00, 10.14it/s]\n",
      "100%|██████████| 267/267 [00:39<00:00,  6.76it/s]\n",
      "100%|██████████| 67/67 [00:05<00:00, 11.55it/s]\n"
     ]
    },
    {
     "name": "stdout",
     "output_type": "stream",
     "text": [
      "Epoch 8, Training Loss: 9.3706, Validation Loss: 51.8366\n"
     ]
    },
    {
     "name": "stderr",
     "output_type": "stream",
     "text": [
      "100%|██████████| 31/31 [00:02<00:00, 11.14it/s]\n",
      "100%|██████████| 267/267 [00:39<00:00,  6.76it/s]\n",
      "100%|██████████| 67/67 [00:05<00:00, 11.37it/s]\n"
     ]
    },
    {
     "name": "stdout",
     "output_type": "stream",
     "text": [
      "Epoch 9, Training Loss: 8.0108, Validation Loss: 61.4762\n"
     ]
    },
    {
     "name": "stderr",
     "output_type": "stream",
     "text": [
      "100%|██████████| 31/31 [00:02<00:00, 11.26it/s]\n",
      "100%|██████████| 267/267 [00:39<00:00,  6.75it/s]\n",
      "100%|██████████| 67/67 [00:06<00:00, 10.47it/s]\n"
     ]
    },
    {
     "name": "stdout",
     "output_type": "stream",
     "text": [
      "Epoch 10, Training Loss: 7.4363, Validation Loss: 48.6431\n"
     ]
    },
    {
     "name": "stderr",
     "output_type": "stream",
     "text": [
      "100%|██████████| 31/31 [00:02<00:00, 10.61it/s]\n",
      "100%|██████████| 267/267 [00:39<00:00,  6.73it/s]\n",
      "100%|██████████| 67/67 [00:06<00:00, 10.90it/s]\n"
     ]
    },
    {
     "name": "stdout",
     "output_type": "stream",
     "text": [
      "Epoch 11, Training Loss: 6.2144, Validation Loss: 49.5937\n"
     ]
    },
    {
     "name": "stderr",
     "output_type": "stream",
     "text": [
      "100%|██████████| 31/31 [00:02<00:00, 10.75it/s]\n",
      "100%|██████████| 267/267 [00:39<00:00,  6.75it/s]\n",
      "100%|██████████| 67/67 [00:05<00:00, 11.46it/s]\n"
     ]
    },
    {
     "name": "stdout",
     "output_type": "stream",
     "text": [
      "Epoch 12, Training Loss: 5.6485, Validation Loss: 47.8275\n"
     ]
    },
    {
     "name": "stderr",
     "output_type": "stream",
     "text": [
      "100%|██████████| 31/31 [00:03<00:00,  9.87it/s]\n",
      "100%|██████████| 267/267 [00:39<00:00,  6.76it/s]\n",
      "100%|██████████| 67/67 [00:06<00:00, 10.81it/s]\n"
     ]
    },
    {
     "name": "stdout",
     "output_type": "stream",
     "text": [
      "Epoch 13, Training Loss: 4.8489, Validation Loss: 47.1076\n"
     ]
    },
    {
     "name": "stderr",
     "output_type": "stream",
     "text": [
      "100%|██████████| 31/31 [00:02<00:00, 10.51it/s]\n",
      "100%|██████████| 267/267 [00:39<00:00,  6.76it/s]\n",
      "100%|██████████| 67/67 [00:06<00:00, 11.14it/s]\n"
     ]
    },
    {
     "name": "stdout",
     "output_type": "stream",
     "text": [
      "Epoch 14, Training Loss: 4.4900, Validation Loss: 46.9475\n"
     ]
    },
    {
     "name": "stderr",
     "output_type": "stream",
     "text": [
      "100%|██████████| 31/31 [00:02<00:00, 11.03it/s]\n",
      "100%|██████████| 267/267 [00:39<00:00,  6.76it/s]\n",
      "100%|██████████| 67/67 [00:05<00:00, 11.53it/s]\n"
     ]
    },
    {
     "name": "stdout",
     "output_type": "stream",
     "text": [
      "Epoch 15, Training Loss: 4.5048, Validation Loss: 46.5547\n"
     ]
    },
    {
     "name": "stderr",
     "output_type": "stream",
     "text": [
      "100%|██████████| 31/31 [00:02<00:00, 11.16it/s]\n",
      "100%|██████████| 267/267 [00:39<00:00,  6.74it/s]\n",
      "100%|██████████| 67/67 [00:06<00:00,  9.96it/s]\n"
     ]
    },
    {
     "name": "stdout",
     "output_type": "stream",
     "text": [
      "Epoch 16, Training Loss: 4.3013, Validation Loss: 51.2486\n"
     ]
    },
    {
     "name": "stderr",
     "output_type": "stream",
     "text": [
      "100%|██████████| 31/31 [00:03<00:00, 10.05it/s]\n",
      "100%|██████████| 267/267 [00:39<00:00,  6.76it/s]\n",
      "100%|██████████| 67/67 [00:05<00:00, 11.53it/s]\n"
     ]
    },
    {
     "name": "stdout",
     "output_type": "stream",
     "text": [
      "Epoch 17, Training Loss: 4.0951, Validation Loss: 46.4079\n"
     ]
    },
    {
     "name": "stderr",
     "output_type": "stream",
     "text": [
      "100%|██████████| 31/31 [00:02<00:00, 10.70it/s]\n",
      "100%|██████████| 267/267 [00:39<00:00,  6.74it/s]\n",
      "100%|██████████| 67/67 [00:06<00:00, 10.52it/s]\n"
     ]
    },
    {
     "name": "stdout",
     "output_type": "stream",
     "text": [
      "Epoch 18, Training Loss: 3.8350, Validation Loss: 46.4486\n"
     ]
    },
    {
     "name": "stderr",
     "output_type": "stream",
     "text": [
      "100%|██████████| 31/31 [00:02<00:00, 10.89it/s]\n",
      "100%|██████████| 267/267 [00:39<00:00,  6.75it/s]\n",
      "100%|██████████| 67/67 [00:06<00:00, 10.58it/s]\n"
     ]
    },
    {
     "name": "stdout",
     "output_type": "stream",
     "text": [
      "Epoch 19, Training Loss: 3.6229, Validation Loss: 46.5452\n"
     ]
    },
    {
     "name": "stderr",
     "output_type": "stream",
     "text": [
      "100%|██████████| 31/31 [00:02<00:00, 10.59it/s]\n",
      "100%|██████████| 267/267 [00:39<00:00,  6.75it/s]\n",
      "100%|██████████| 67/67 [00:05<00:00, 11.52it/s]\n"
     ]
    },
    {
     "name": "stdout",
     "output_type": "stream",
     "text": [
      "Epoch 20, Training Loss: 3.3552, Validation Loss: 47.3383\n"
     ]
    },
    {
     "name": "stderr",
     "output_type": "stream",
     "text": [
      "100%|██████████| 31/31 [00:02<00:00, 10.95it/s]\n",
      "100%|██████████| 267/267 [00:39<00:00,  6.76it/s]\n",
      "100%|██████████| 67/67 [00:05<00:00, 11.25it/s]\n"
     ]
    },
    {
     "name": "stdout",
     "output_type": "stream",
     "text": [
      "Epoch 21, Training Loss: 3.2921, Validation Loss: 46.2328\n"
     ]
    },
    {
     "name": "stderr",
     "output_type": "stream",
     "text": [
      "100%|██████████| 31/31 [00:02<00:00, 10.51it/s]\n",
      "100%|██████████| 267/267 [00:39<00:00,  6.73it/s]\n",
      "100%|██████████| 67/67 [00:06<00:00, 10.67it/s]\n"
     ]
    },
    {
     "name": "stdout",
     "output_type": "stream",
     "text": [
      "Epoch 22, Training Loss: 3.2904, Validation Loss: 46.5107\n"
     ]
    },
    {
     "name": "stderr",
     "output_type": "stream",
     "text": [
      "100%|██████████| 31/31 [00:02<00:00, 10.34it/s]\n",
      "100%|██████████| 267/267 [00:39<00:00,  6.75it/s]\n",
      "100%|██████████| 67/67 [00:05<00:00, 11.46it/s]\n"
     ]
    },
    {
     "name": "stdout",
     "output_type": "stream",
     "text": [
      "Epoch 23, Training Loss: 3.1519, Validation Loss: 50.1269\n"
     ]
    },
    {
     "name": "stderr",
     "output_type": "stream",
     "text": [
      "100%|██████████| 31/31 [00:02<00:00, 10.96it/s]\n",
      "100%|██████████| 267/267 [00:39<00:00,  6.76it/s]\n",
      "100%|██████████| 67/67 [00:05<00:00, 11.57it/s]\n"
     ]
    },
    {
     "name": "stdout",
     "output_type": "stream",
     "text": [
      "Epoch 24, Training Loss: 3.4135, Validation Loss: 47.1188\n"
     ]
    },
    {
     "name": "stderr",
     "output_type": "stream",
     "text": [
      "100%|██████████| 31/31 [00:02<00:00, 10.90it/s]\n",
      "100%|██████████| 267/267 [00:39<00:00,  6.75it/s]\n",
      "100%|██████████| 67/67 [00:06<00:00, 10.44it/s]\n"
     ]
    },
    {
     "name": "stdout",
     "output_type": "stream",
     "text": [
      "Epoch 25, Training Loss: 3.2868, Validation Loss: 47.3061\n"
     ]
    },
    {
     "name": "stderr",
     "output_type": "stream",
     "text": [
      "100%|██████████| 31/31 [00:03<00:00,  9.74it/s]\n",
      "100%|██████████| 267/267 [00:39<00:00,  6.74it/s]\n",
      "100%|██████████| 67/67 [00:05<00:00, 11.40it/s]\n"
     ]
    },
    {
     "name": "stdout",
     "output_type": "stream",
     "text": [
      "Epoch 26, Training Loss: 3.8093, Validation Loss: 50.6216\n"
     ]
    },
    {
     "name": "stderr",
     "output_type": "stream",
     "text": [
      "100%|██████████| 31/31 [00:02<00:00, 11.10it/s]\n",
      "100%|██████████| 267/267 [00:39<00:00,  6.75it/s]\n",
      "100%|██████████| 67/67 [00:05<00:00, 11.43it/s]\n"
     ]
    },
    {
     "name": "stdout",
     "output_type": "stream",
     "text": [
      "Epoch 27, Training Loss: 3.3910, Validation Loss: 51.5660\n"
     ]
    },
    {
     "name": "stderr",
     "output_type": "stream",
     "text": [
      "100%|██████████| 31/31 [00:03<00:00,  9.41it/s]\n",
      "100%|██████████| 267/267 [00:39<00:00,  6.73it/s]\n",
      "100%|██████████| 67/67 [00:06<00:00, 10.75it/s]\n"
     ]
    },
    {
     "name": "stdout",
     "output_type": "stream",
     "text": [
      "Epoch 28, Training Loss: 2.9339, Validation Loss: 45.7873\n"
     ]
    },
    {
     "name": "stderr",
     "output_type": "stream",
     "text": [
      "100%|██████████| 31/31 [00:03<00:00, 10.31it/s]\n",
      "100%|██████████| 267/267 [00:39<00:00,  6.76it/s]\n",
      "100%|██████████| 67/67 [00:06<00:00, 10.81it/s]\n"
     ]
    },
    {
     "name": "stdout",
     "output_type": "stream",
     "text": [
      "Epoch 29, Training Loss: 2.4113, Validation Loss: 45.0852\n"
     ]
    },
    {
     "name": "stderr",
     "output_type": "stream",
     "text": [
      "100%|██████████| 31/31 [00:02<00:00, 11.03it/s]\n",
      "100%|██████████| 267/267 [00:39<00:00,  6.75it/s]\n",
      "100%|██████████| 67/67 [00:05<00:00, 11.25it/s]\n"
     ]
    },
    {
     "name": "stdout",
     "output_type": "stream",
     "text": [
      "Epoch 30, Training Loss: 2.2392, Validation Loss: 45.1585\n"
     ]
    },
    {
     "name": "stderr",
     "output_type": "stream",
     "text": [
      "100%|██████████| 31/31 [00:03<00:00,  9.96it/s]\n",
      "100%|██████████| 267/267 [00:39<00:00,  6.74it/s]\n",
      "100%|██████████| 67/67 [00:06<00:00, 10.02it/s]\n"
     ]
    },
    {
     "name": "stdout",
     "output_type": "stream",
     "text": [
      "Epoch 31, Training Loss: 2.1684, Validation Loss: 45.8086\n"
     ]
    },
    {
     "name": "stderr",
     "output_type": "stream",
     "text": [
      "100%|██████████| 31/31 [00:02<00:00, 10.55it/s]\n",
      "100%|██████████| 267/267 [00:39<00:00,  6.75it/s]\n",
      "100%|██████████| 67/67 [00:06<00:00, 10.49it/s]\n"
     ]
    },
    {
     "name": "stdout",
     "output_type": "stream",
     "text": [
      "Epoch 32, Training Loss: 2.1722, Validation Loss: 46.1755\n"
     ]
    },
    {
     "name": "stderr",
     "output_type": "stream",
     "text": [
      "100%|██████████| 31/31 [00:02<00:00, 10.42it/s]\n",
      "100%|██████████| 267/267 [00:39<00:00,  6.76it/s]\n",
      "100%|██████████| 67/67 [00:05<00:00, 11.42it/s]\n"
     ]
    },
    {
     "name": "stdout",
     "output_type": "stream",
     "text": [
      "Epoch 33, Training Loss: 2.3109, Validation Loss: 46.1239\n"
     ]
    },
    {
     "name": "stderr",
     "output_type": "stream",
     "text": [
      "100%|██████████| 31/31 [00:02<00:00, 10.92it/s]\n",
      "100%|██████████| 267/267 [00:39<00:00,  6.74it/s]\n",
      "100%|██████████| 67/67 [00:06<00:00, 10.26it/s]\n"
     ]
    },
    {
     "name": "stdout",
     "output_type": "stream",
     "text": [
      "Epoch 34, Training Loss: 2.1714, Validation Loss: 45.2755\n"
     ]
    },
    {
     "name": "stderr",
     "output_type": "stream",
     "text": [
      "100%|██████████| 31/31 [00:02<00:00, 10.37it/s]\n",
      "100%|██████████| 267/267 [00:39<00:00,  6.74it/s]\n",
      "100%|██████████| 67/67 [00:06<00:00, 11.10it/s]\n"
     ]
    },
    {
     "name": "stdout",
     "output_type": "stream",
     "text": [
      "Epoch 35, Training Loss: 2.0935, Validation Loss: 46.4906\n"
     ]
    },
    {
     "name": "stderr",
     "output_type": "stream",
     "text": [
      "100%|██████████| 31/31 [00:02<00:00, 10.77it/s]\n",
      "100%|██████████| 267/267 [00:39<00:00,  6.75it/s]\n",
      "100%|██████████| 67/67 [00:05<00:00, 11.21it/s]\n"
     ]
    },
    {
     "name": "stdout",
     "output_type": "stream",
     "text": [
      "Epoch 36, Training Loss: 2.1381, Validation Loss: 47.3651\n"
     ]
    },
    {
     "name": "stderr",
     "output_type": "stream",
     "text": [
      "100%|██████████| 31/31 [00:02<00:00, 10.58it/s]\n",
      "100%|██████████| 267/267 [00:39<00:00,  6.73it/s]\n",
      "100%|██████████| 67/67 [00:06<00:00, 10.61it/s]\n"
     ]
    },
    {
     "name": "stdout",
     "output_type": "stream",
     "text": [
      "Epoch 37, Training Loss: 2.0884, Validation Loss: 46.2333\n"
     ]
    },
    {
     "name": "stderr",
     "output_type": "stream",
     "text": [
      "100%|██████████| 31/31 [00:02<00:00, 10.39it/s]\n",
      "100%|██████████| 267/267 [00:39<00:00,  6.75it/s]\n",
      "100%|██████████| 67/67 [00:05<00:00, 11.46it/s]\n"
     ]
    },
    {
     "name": "stdout",
     "output_type": "stream",
     "text": [
      "Epoch 38, Training Loss: 2.4905, Validation Loss: 47.6073\n"
     ]
    },
    {
     "name": "stderr",
     "output_type": "stream",
     "text": [
      "100%|██████████| 31/31 [00:03<00:00, 10.31it/s]\n",
      "100%|██████████| 267/267 [00:39<00:00,  6.74it/s]\n",
      "100%|██████████| 67/67 [00:05<00:00, 11.44it/s]\n"
     ]
    },
    {
     "name": "stdout",
     "output_type": "stream",
     "text": [
      "Epoch 39, Training Loss: 3.0177, Validation Loss: 49.0025\n"
     ]
    },
    {
     "name": "stderr",
     "output_type": "stream",
     "text": [
      "100%|██████████| 31/31 [00:02<00:00, 11.09it/s]\n",
      "100%|██████████| 267/267 [00:39<00:00,  6.72it/s]\n",
      "100%|██████████| 67/67 [00:06<00:00, 10.18it/s]\n"
     ]
    },
    {
     "name": "stdout",
     "output_type": "stream",
     "text": [
      "Epoch 40, Training Loss: 4.9771, Validation Loss: 53.3894\n"
     ]
    },
    {
     "name": "stderr",
     "output_type": "stream",
     "text": [
      "100%|██████████| 31/31 [00:03<00:00, 10.10it/s]\n",
      "100%|██████████| 31/31 [00:02<00:00, 11.17it/s]\n"
     ]
    }
   ],
   "source": [
    "import numpy as np\n",
    "import pandas as pd\n",
    "from os.path import join\n",
    "from PIL import Image\n",
    "from tqdm import tqdm\n",
    "\n",
    "import torch\n",
    "import torch.nn as nn\n",
    "import torchvision\n",
    "from torchvision.transforms import Compose, Resize, ToTensor, Normalize\n",
    "from torchvision import models\n",
    "import torch.optim as optim\n",
    "from torch.utils.data import DataLoader, Dataset, random_split\n",
    "\n",
    "# Dataset class\n",
    "class AgeDataset(Dataset):\n",
    "    def __init__(self, data_path, annot_path, train=True):\n",
    "        super(AgeDataset, self).__init__()\n",
    "        self.data_path = data_path\n",
    "        self.train = train\n",
    "        self.ann = pd.read_csv(annot_path)\n",
    "        self.files = self.ann['file_id']\n",
    "        if train:\n",
    "            self.ages = self.ann['age']\n",
    "        self.transform = self._transform(224)\n",
    "\n",
    "    @staticmethod\n",
    "    def _convert_image_to_rgb(image):\n",
    "        return image.convert(\"RGB\")\n",
    "\n",
    "    def _transform(self, n_px):\n",
    "        mean = [0.485, 0.456, 0.406]\n",
    "        std = [0.229, 0.224, 0.225]\n",
    "        return Compose([\n",
    "            Resize(n_px),\n",
    "            self._convert_image_to_rgb,\n",
    "            ToTensor(),\n",
    "            Normalize(mean, std),\n",
    "        ])\n",
    "\n",
    "    def read_img(self, file_name):\n",
    "        img = Image.open(join(self.data_path, file_name))\n",
    "        return self.transform(img)\n",
    "\n",
    "    def __getitem__(self, index):\n",
    "        file_name = self.files[index]\n",
    "        img = self.read_img(file_name)\n",
    "        if self.train:\n",
    "            age = self.ages[index]\n",
    "            return img, age\n",
    "        else:\n",
    "            return img\n",
    "\n",
    "    def __len__(self):\n",
    "        return len(self.files)\n",
    "\n",
    "# Paths\n",
    "train_path = '/kaggle/input/smai-24-age-prediction/content/faces_dataset/train'\n",
    "train_ann = '/kaggle/input/smai-24-age-prediction/content/faces_dataset/train.csv'\n",
    "test_path = '/kaggle/input/smai-24-age-prediction/content/faces_dataset/test'\n",
    "test_ann = '/kaggle/input/smai-24-age-prediction/content/faces_dataset/submission.csv'\n",
    "\n",
    "# Dataset and DataLoader\n",
    "dataset = AgeDataset(train_path, train_ann, train=True)\n",
    "train_dataset, val_dataset = random_split(dataset, [int(0.8 * len(dataset)), len(dataset) - int(0.8 * len(dataset))])\n",
    "test_dataset = AgeDataset(test_path, test_ann, train=False)\n",
    "\n",
    "train_loader = DataLoader(train_dataset, batch_size=64, shuffle=True, num_workers=4, pin_memory=True)\n",
    "val_loader = DataLoader(val_dataset, batch_size=64, shuffle=False, num_workers=4, pin_memory=True)\n",
    "test_loader = DataLoader(test_dataset, batch_size=64, shuffle=False, num_workers=4, pin_memory=True)\n",
    "\n",
    "# Prediction function\n",
    "@torch.no_grad\n",
    "def predict(loader, model, device):\n",
    "    model.eval()\n",
    "    predictions = []\n",
    "    for img in tqdm(loader):\n",
    "        img = img.to(device)\n",
    "        pred = model(img)\n",
    "        predictions.extend(pred.cpu().flatten().tolist())\n",
    "    return predictions\n",
    "\n",
    "# Validation loop\n",
    "def validation_loop(val_loader, model, criterion, device):\n",
    "    model.eval()\n",
    "    running_val_loss = 0.0\n",
    "    with torch.no_grad():\n",
    "        for images, ages in tqdm(val_loader):\n",
    "            images, ages = images.to(device), ages.to(device).float().unsqueeze(1)\n",
    "            outputs = model(images)\n",
    "            loss = criterion(outputs, ages)\n",
    "            running_val_loss += loss.item() * images.size(0)\n",
    "    return running_val_loss / len(val_loader.dataset)\n",
    "\n",
    "# Training loop\n",
    "def train_model(model, train_loader, val_loader, test_loader, criterion, optimizer, device, num_epochs=5):\n",
    "    for epoch in range(num_epochs):\n",
    "        model.train()\n",
    "        train_running_loss = 0.0\n",
    "        for images, ages in tqdm(train_loader):\n",
    "            images, ages = images.to(device), ages.to(device).float().unsqueeze(1)\n",
    "            optimizer.zero_grad()\n",
    "            outputs = model(images)\n",
    "            loss = criterion(outputs, ages)\n",
    "            loss.backward()\n",
    "            optimizer.step()\n",
    "            train_running_loss += loss.item() * images.size(0)\n",
    "\n",
    "        epoch_loss = train_running_loss / len(train_loader.dataset)\n",
    "        val_loss = validation_loop(val_loader, model, criterion, device)\n",
    "        print(f\"Epoch {epoch + 1}, Training Loss: {epoch_loss:.4f}, Validation Loss: {val_loss:.4f}\")\n",
    "\n",
    "        preds = predict(test_loader, model, device)\n",
    "        submit = pd.read_csv('/kaggle/input/smai-24-age-prediction/content/faces_dataset/submission.csv')\n",
    "        submit['age'] = preds\n",
    "        submit.to_csv(f'/kaggle/working/submission_epoch_{epoch + 1}.csv', index=False)\n",
    "\n",
    "# Device\n",
    "device = torch.device(\"cuda\" if torch.cuda.is_available() else \"cpu\")\n",
    "\n",
    "# Model\n",
    "model = models.resnet34(pretrained=True)\n",
    "num_ftrs = model.fc.in_features\n",
    "model.fc = nn.Linear(num_ftrs, 1)\n",
    "\n",
    "for name, param in model.named_parameters():\n",
    "    if \"layer1\" in name:\n",
    "        param.requires_grad = False\n",
    "\n",
    "model = model.to(device)\n",
    "\n",
    "# Loss function and optimizer\n",
    "criterion = nn.MSELoss()\n",
    "optimizer = optim.Adam(model.parameters(), lr=0.0001)\n",
    "\n",
    "# Train the model\n",
    "train_model(model, train_loader, val_loader, test_loader, criterion, optimizer, device, num_epochs=40)\n",
    "\n",
    "# Create submission CSV file\n",
    "preds = predict(test_loader, model, device)\n",
    "submit = pd.read_csv('/kaggle/input/smai-24-age-prediction/content/faces_dataset/submission.csv')\n",
    "submit['age'] = preds\n",
    "submit.to_csv('/kaggle/working/submission.csv', index=False)\n"
   ]
  }
 ],
 "metadata": {
  "kaggle": {
   "accelerator": "gpu",
   "dataSources": [
    {
     "databundleVersionId": 8130765,
     "sourceId": 74586,
     "sourceType": "competition"
    }
   ],
   "isGpuEnabled": true,
   "isInternetEnabled": true,
   "language": "python",
   "sourceType": "notebook"
  },
  "kernelspec": {
   "display_name": "Python 3",
   "language": "python",
   "name": "python3"
  },
  "language_info": {
   "codemirror_mode": {
    "name": "ipython",
    "version": 3
   },
   "file_extension": ".py",
   "mimetype": "text/x-python",
   "name": "python",
   "nbconvert_exporter": "python",
   "pygments_lexer": "ipython3",
   "version": "3.10.13"
  },
  "papermill": {
   "default_parameters": {},
   "duration": 1969.336525,
   "end_time": "2024-05-18T20:20:15.683503",
   "environment_variables": {},
   "exception": null,
   "input_path": "__notebook__.ipynb",
   "output_path": "__notebook__.ipynb",
   "parameters": {},
   "start_time": "2024-05-18T19:47:26.346978",
   "version": "2.5.0"
  }
 },
 "nbformat": 4,
 "nbformat_minor": 5
}

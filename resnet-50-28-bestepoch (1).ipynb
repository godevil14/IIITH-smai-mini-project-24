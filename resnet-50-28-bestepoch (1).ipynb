{
 "cells": [
  {
   "cell_type": "code",
   "execution_count": 1,
   "id": "462a459b",
   "metadata": {
    "execution": {
     "iopub.execute_input": "2024-04-25T04:50:47.881773Z",
     "iopub.status.busy": "2024-04-25T04:50:47.881407Z",
     "iopub.status.idle": "2024-04-25T04:50:55.265672Z",
     "shell.execute_reply": "2024-04-25T04:50:55.264759Z"
    },
    "papermill": {
     "duration": 7.392117,
     "end_time": "2024-04-25T04:50:55.268301",
     "exception": false,
     "start_time": "2024-04-25T04:50:47.876184",
     "status": "completed"
    },
    "tags": []
   },
   "outputs": [],
   "source": [
    "import numpy as np\n",
    "import pandas as pd\n",
    "from glob import glob\n",
    "from os.path import join\n",
    "from pathlib import Path\n",
    "from PIL import Image\n",
    "import matplotlib.pyplot as plt\n",
    "from tqdm import tqdm\n",
    "\n",
    "\n",
    "import torch\n",
    "import torch.nn as nn\n",
    "import torchvision\n",
    "from torchvision.transforms import Compose, Resize, ToTensor, Normalize\n",
    "from torchvision import models\n",
    "import torch.optim as optim\n",
    "from torch.utils.data import DataLoader\n",
    "class AgeDataset(torch.utils.data.Dataset):\n",
    "\n",
    "    def __init__(self,  data_path, annot_path, train=True):\n",
    "        super(AgeDataset, self).__init__()\n",
    "\n",
    "        self.annot_path = annot_path\n",
    "        self.data_path = data_path\n",
    "        self.train = train\n",
    "        \n",
    "        self.ann = pd.read_csv(annot_path)\n",
    "        self.files = self.ann['file_id']\n",
    "        if train:\n",
    "            self.ages = self.ann['age']\n",
    "        self.transform = self._transform(224)\n",
    "\n",
    "    @staticmethod    \n",
    "    def _convert_image_to_rgb(image):\n",
    "        return image.convert(\"RGB\")\n",
    "\n",
    "    def _transform(self, n_px):\n",
    "        mean = [0.485, 0.456, 0.406]\n",
    "        std = [0.229, 0.224, 0.225]\n",
    "        return Compose([\n",
    "            Resize(n_px),\n",
    "            self._convert_image_to_rgb,\n",
    "            ToTensor(),\n",
    "            Normalize(mean, std),\n",
    "        ])\n",
    "\n",
    "    def read_img(self, file_name):\n",
    "        im_path = join(self.data_path,file_name)   \n",
    "        img = Image.open(im_path)\n",
    "        img = self.transform(img)\n",
    "        return img\n",
    "\n",
    "    def __getitem__(self, index):\n",
    "        file_name = self.files[index]\n",
    "        img = self.read_img(file_name)\n",
    "        if self.train:\n",
    "            age = self.ages[index]\n",
    "            return img, age\n",
    "        else:\n",
    "            return img\n",
    "\n",
    "    def __len__(self):\n",
    "        return len(self.files)\n",
    "\n",
    "\n",
    "train_path = '/kaggle/input/smai-24-age-prediction/content/faces_dataset/train'\n",
    "train_ann = '/kaggle/input/smai-24-age-prediction/content/faces_dataset/train.csv'\n",
    "dataset = AgeDataset(train_path, train_ann, train=True)\n",
    "train_dataset,val_dataset = torch.utils.data.random_split(dataset,[0.8,0.2])\n",
    "\n",
    "\n",
    "test_path = '/kaggle/input/smai-24-age-prediction/content/faces_dataset/test'\n",
    "test_ann = '/kaggle/input/smai-24-age-prediction/content/faces_dataset/submission.csv'\n",
    "test_dataset = AgeDataset(test_path, test_ann, train=False)"
   ]
  },
  {
   "cell_type": "code",
   "execution_count": 2,
   "id": "220537e1",
   "metadata": {
    "execution": {
     "iopub.execute_input": "2024-04-25T04:50:55.276450Z",
     "iopub.status.busy": "2024-04-25T04:50:55.276137Z",
     "iopub.status.idle": "2024-04-25T04:50:55.283373Z",
     "shell.execute_reply": "2024-04-25T04:50:55.282486Z"
    },
    "papermill": {
     "duration": 0.013293,
     "end_time": "2024-04-25T04:50:55.285403",
     "exception": false,
     "start_time": "2024-04-25T04:50:55.272110",
     "status": "completed"
    },
    "tags": []
   },
   "outputs": [
    {
     "data": {
      "text/plain": [
       "(17072, 4268, 1950)"
      ]
     },
     "execution_count": 2,
     "metadata": {},
     "output_type": "execute_result"
    }
   ],
   "source": [
    "len(train_dataset),len(val_dataset),len(test_dataset)"
   ]
  },
  {
   "cell_type": "code",
   "execution_count": 3,
   "id": "2d38bd07",
   "metadata": {
    "execution": {
     "iopub.execute_input": "2024-04-25T04:50:55.292922Z",
     "iopub.status.busy": "2024-04-25T04:50:55.292640Z",
     "iopub.status.idle": "2024-04-25T04:50:56.445429Z",
     "shell.execute_reply": "2024-04-25T04:50:56.444529Z"
    },
    "papermill": {
     "duration": 1.15926,
     "end_time": "2024-04-25T04:50:56.447691",
     "exception": false,
     "start_time": "2024-04-25T04:50:55.288431",
     "status": "completed"
    },
    "tags": []
   },
   "outputs": [
    {
     "name": "stderr",
     "output_type": "stream",
     "text": [
      "/opt/conda/lib/python3.10/site-packages/torchvision/models/_utils.py:208: UserWarning: The parameter 'pretrained' is deprecated since 0.13 and may be removed in the future, please use 'weights' instead.\n",
      "  warnings.warn(\n",
      "/opt/conda/lib/python3.10/site-packages/torchvision/models/_utils.py:223: UserWarning: Arguments other than a weight enum or `None` for 'weights' are deprecated since 0.13 and may be removed in the future. The current behavior is equivalent to passing `weights=ResNet18_Weights.IMAGENET1K_V1`. You can also use `weights=ResNet18_Weights.DEFAULT` to get the most up-to-date weights.\n",
      "  warnings.warn(msg)\n",
      "Downloading: \"https://download.pytorch.org/models/resnet18-f37072fd.pth\" to /root/.cache/torch/hub/checkpoints/resnet18-f37072fd.pth\n",
      "100%|██████████| 44.7M/44.7M [00:00<00:00, 93.7MB/s]\n"
     ]
    }
   ],
   "source": [
    "train_loader = torch.utils.data.DataLoader(train_dataset, batch_size=64, shuffle=True)\n",
    "val_loader = torch.utils.data.DataLoader(val_dataset,batch_size=64,shuffle=False)\n",
    "test_loader = torch.utils.data.DataLoader(test_dataset, batch_size=64, shuffle=False)\n",
    "\n",
    "\n",
    "@torch.no_grad\n",
    "def predict(loader, model):\n",
    "    model.eval()\n",
    "    predictions = []\n",
    "\n",
    "    for img in tqdm(loader):\n",
    "        img = img.to(device)\n",
    "\n",
    "        pred = model(img)\n",
    "        predictions.extend(pred.flatten().detach().tolist())\n",
    "\n",
    "    return predictions\n",
    "\n",
    "def validation_loop(val_loader,model,criterion):\n",
    "    model.eval()\n",
    "    running_val_loss = 0.0\n",
    "    with torch.no_grad():\n",
    "        for images,ages in tqdm(val_loader):\n",
    "            images = images.to(device)\n",
    "            ages = ages.to(device).float().unsqueeze(1)  # Ensure age is a float and has correct shape\n",
    "            outputs = model(images)\n",
    "            loss = criterion(outputs, ages)\n",
    "            running_val_loss += loss.item() * images.size(0)\n",
    "            \n",
    "    print(f\"Val Loss: {running_val_loss/len(val_loader.dataset)}\")\n",
    "        \n",
    "    \n",
    "\n",
    "# Training Loop\n",
    "def train_model(model, train_loader,val_loader,test_loader, criterion, optimizer, num_epochs=5):\n",
    "      # Set the model to training mode\n",
    "    for epoch in range(num_epochs):\n",
    "        train_running_loss = 0.0\n",
    "        model.train()\n",
    "        for images, ages in tqdm(train_loader):\n",
    "            images = images.to(device)\n",
    "            ages = ages.to(device).float().unsqueeze(1)  # Ensure age is a float and has correct shape\n",
    "\n",
    "            optimizer.zero_grad()  # Zero the parameter gradients\n",
    "            outputs = model(images)\n",
    "            loss = criterion(outputs, ages)\n",
    "            loss.backward()  # Backpropagate the loss\n",
    "            optimizer.step()  # Optimize the weights\n",
    "\n",
    "            train_running_loss += loss.item() * images.size(0)\n",
    "        \n",
    "        epoch_loss = train_running_loss / len(train_loader.dataset)\n",
    "        print(f\"Epoch {epoch+1}, Traing Loss: {epoch_loss:.4f}, \",end=\"\")\n",
    "        \n",
    "        validation_loop(val_loader,model,criterion)\n",
    "        \n",
    "        preds = predict(test_loader, model)\n",
    "        submit = pd.read_csv('/kaggle/input/smai-24-age-prediction/content/faces_dataset/submission.csv')\n",
    "        submit['age'] = preds\n",
    "        submit.to_csv(f'/kaggle/working/submission_epoch_{epoch+1}.csv',index=False)            \n",
    "        \n",
    "\n",
    "device = torch.device(\"cuda\" if torch.cuda.is_available() else \"cpu\")\n",
    "model = models.resnet18(pretrained=True)  # Example using a pre-trained ResNet50\n",
    "\n",
    "num_ftrs = model.fc.in_features\n",
    "model.fc = nn.Sequential(\n",
    "                        nn.Linear(num_ftrs, 1)\n",
    "                        )# Assuming age prediction is a regression task\n",
    "for name,param in model.named_parameters():\n",
    "    if \"layer\" in name:\n",
    "        if \"layer1\" in name:\n",
    "            param.requires_grad = False\n",
    "    elif 'fc.' not in name:\n",
    "        param.requires_grad = False\n",
    "model = model.to(device)"
   ]
  },
  {
   "cell_type": "code",
   "execution_count": 4,
   "id": "fd152007",
   "metadata": {
    "execution": {
     "iopub.execute_input": "2024-04-25T04:50:56.457301Z",
     "iopub.status.busy": "2024-04-25T04:50:56.456947Z",
     "iopub.status.idle": "2024-04-25T04:50:56.463970Z",
     "shell.execute_reply": "2024-04-25T04:50:56.463064Z"
    },
    "papermill": {
     "duration": 0.014335,
     "end_time": "2024-04-25T04:50:56.466264",
     "exception": false,
     "start_time": "2024-04-25T04:50:56.451929",
     "status": "completed"
    },
    "tags": []
   },
   "outputs": [
    {
     "data": {
      "text/plain": [
       "ResNet(\n",
       "  (conv1): Conv2d(3, 64, kernel_size=(7, 7), stride=(2, 2), padding=(3, 3), bias=False)\n",
       "  (bn1): BatchNorm2d(64, eps=1e-05, momentum=0.1, affine=True, track_running_stats=True)\n",
       "  (relu): ReLU(inplace=True)\n",
       "  (maxpool): MaxPool2d(kernel_size=3, stride=2, padding=1, dilation=1, ceil_mode=False)\n",
       "  (layer1): Sequential(\n",
       "    (0): BasicBlock(\n",
       "      (conv1): Conv2d(64, 64, kernel_size=(3, 3), stride=(1, 1), padding=(1, 1), bias=False)\n",
       "      (bn1): BatchNorm2d(64, eps=1e-05, momentum=0.1, affine=True, track_running_stats=True)\n",
       "      (relu): ReLU(inplace=True)\n",
       "      (conv2): Conv2d(64, 64, kernel_size=(3, 3), stride=(1, 1), padding=(1, 1), bias=False)\n",
       "      (bn2): BatchNorm2d(64, eps=1e-05, momentum=0.1, affine=True, track_running_stats=True)\n",
       "    )\n",
       "    (1): BasicBlock(\n",
       "      (conv1): Conv2d(64, 64, kernel_size=(3, 3), stride=(1, 1), padding=(1, 1), bias=False)\n",
       "      (bn1): BatchNorm2d(64, eps=1e-05, momentum=0.1, affine=True, track_running_stats=True)\n",
       "      (relu): ReLU(inplace=True)\n",
       "      (conv2): Conv2d(64, 64, kernel_size=(3, 3), stride=(1, 1), padding=(1, 1), bias=False)\n",
       "      (bn2): BatchNorm2d(64, eps=1e-05, momentum=0.1, affine=True, track_running_stats=True)\n",
       "    )\n",
       "  )\n",
       "  (layer2): Sequential(\n",
       "    (0): BasicBlock(\n",
       "      (conv1): Conv2d(64, 128, kernel_size=(3, 3), stride=(2, 2), padding=(1, 1), bias=False)\n",
       "      (bn1): BatchNorm2d(128, eps=1e-05, momentum=0.1, affine=True, track_running_stats=True)\n",
       "      (relu): ReLU(inplace=True)\n",
       "      (conv2): Conv2d(128, 128, kernel_size=(3, 3), stride=(1, 1), padding=(1, 1), bias=False)\n",
       "      (bn2): BatchNorm2d(128, eps=1e-05, momentum=0.1, affine=True, track_running_stats=True)\n",
       "      (downsample): Sequential(\n",
       "        (0): Conv2d(64, 128, kernel_size=(1, 1), stride=(2, 2), bias=False)\n",
       "        (1): BatchNorm2d(128, eps=1e-05, momentum=0.1, affine=True, track_running_stats=True)\n",
       "      )\n",
       "    )\n",
       "    (1): BasicBlock(\n",
       "      (conv1): Conv2d(128, 128, kernel_size=(3, 3), stride=(1, 1), padding=(1, 1), bias=False)\n",
       "      (bn1): BatchNorm2d(128, eps=1e-05, momentum=0.1, affine=True, track_running_stats=True)\n",
       "      (relu): ReLU(inplace=True)\n",
       "      (conv2): Conv2d(128, 128, kernel_size=(3, 3), stride=(1, 1), padding=(1, 1), bias=False)\n",
       "      (bn2): BatchNorm2d(128, eps=1e-05, momentum=0.1, affine=True, track_running_stats=True)\n",
       "    )\n",
       "  )\n",
       "  (layer3): Sequential(\n",
       "    (0): BasicBlock(\n",
       "      (conv1): Conv2d(128, 256, kernel_size=(3, 3), stride=(2, 2), padding=(1, 1), bias=False)\n",
       "      (bn1): BatchNorm2d(256, eps=1e-05, momentum=0.1, affine=True, track_running_stats=True)\n",
       "      (relu): ReLU(inplace=True)\n",
       "      (conv2): Conv2d(256, 256, kernel_size=(3, 3), stride=(1, 1), padding=(1, 1), bias=False)\n",
       "      (bn2): BatchNorm2d(256, eps=1e-05, momentum=0.1, affine=True, track_running_stats=True)\n",
       "      (downsample): Sequential(\n",
       "        (0): Conv2d(128, 256, kernel_size=(1, 1), stride=(2, 2), bias=False)\n",
       "        (1): BatchNorm2d(256, eps=1e-05, momentum=0.1, affine=True, track_running_stats=True)\n",
       "      )\n",
       "    )\n",
       "    (1): BasicBlock(\n",
       "      (conv1): Conv2d(256, 256, kernel_size=(3, 3), stride=(1, 1), padding=(1, 1), bias=False)\n",
       "      (bn1): BatchNorm2d(256, eps=1e-05, momentum=0.1, affine=True, track_running_stats=True)\n",
       "      (relu): ReLU(inplace=True)\n",
       "      (conv2): Conv2d(256, 256, kernel_size=(3, 3), stride=(1, 1), padding=(1, 1), bias=False)\n",
       "      (bn2): BatchNorm2d(256, eps=1e-05, momentum=0.1, affine=True, track_running_stats=True)\n",
       "    )\n",
       "  )\n",
       "  (layer4): Sequential(\n",
       "    (0): BasicBlock(\n",
       "      (conv1): Conv2d(256, 512, kernel_size=(3, 3), stride=(2, 2), padding=(1, 1), bias=False)\n",
       "      (bn1): BatchNorm2d(512, eps=1e-05, momentum=0.1, affine=True, track_running_stats=True)\n",
       "      (relu): ReLU(inplace=True)\n",
       "      (conv2): Conv2d(512, 512, kernel_size=(3, 3), stride=(1, 1), padding=(1, 1), bias=False)\n",
       "      (bn2): BatchNorm2d(512, eps=1e-05, momentum=0.1, affine=True, track_running_stats=True)\n",
       "      (downsample): Sequential(\n",
       "        (0): Conv2d(256, 512, kernel_size=(1, 1), stride=(2, 2), bias=False)\n",
       "        (1): BatchNorm2d(512, eps=1e-05, momentum=0.1, affine=True, track_running_stats=True)\n",
       "      )\n",
       "    )\n",
       "    (1): BasicBlock(\n",
       "      (conv1): Conv2d(512, 512, kernel_size=(3, 3), stride=(1, 1), padding=(1, 1), bias=False)\n",
       "      (bn1): BatchNorm2d(512, eps=1e-05, momentum=0.1, affine=True, track_running_stats=True)\n",
       "      (relu): ReLU(inplace=True)\n",
       "      (conv2): Conv2d(512, 512, kernel_size=(3, 3), stride=(1, 1), padding=(1, 1), bias=False)\n",
       "      (bn2): BatchNorm2d(512, eps=1e-05, momentum=0.1, affine=True, track_running_stats=True)\n",
       "    )\n",
       "  )\n",
       "  (avgpool): AdaptiveAvgPool2d(output_size=(1, 1))\n",
       "  (fc): Sequential(\n",
       "    (0): Linear(in_features=512, out_features=1, bias=True)\n",
       "  )\n",
       ")"
      ]
     },
     "execution_count": 4,
     "metadata": {},
     "output_type": "execute_result"
    }
   ],
   "source": [
    "model"
   ]
  },
  {
   "cell_type": "code",
   "execution_count": 5,
   "id": "20a687c7",
   "metadata": {
    "execution": {
     "iopub.execute_input": "2024-04-25T04:50:56.475830Z",
     "iopub.status.busy": "2024-04-25T04:50:56.475551Z",
     "iopub.status.idle": "2024-04-25T04:50:56.481006Z",
     "shell.execute_reply": "2024-04-25T04:50:56.480020Z"
    },
    "papermill": {
     "duration": 0.01302,
     "end_time": "2024-04-25T04:50:56.483474",
     "exception": false,
     "start_time": "2024-04-25T04:50:56.470454",
     "status": "completed"
    },
    "tags": []
   },
   "outputs": [
    {
     "name": "stdout",
     "output_type": "stream",
     "text": [
      "conv1.weight requires Grad: False\n",
      "bn1.weight requires Grad: False\n",
      "bn1.bias requires Grad: False\n",
      "layer1.0.conv1.weight requires Grad: False\n",
      "layer1.0.bn1.weight requires Grad: False\n",
      "layer1.0.bn1.bias requires Grad: False\n",
      "layer1.0.conv2.weight requires Grad: False\n",
      "layer1.0.bn2.weight requires Grad: False\n",
      "layer1.0.bn2.bias requires Grad: False\n",
      "layer1.1.conv1.weight requires Grad: False\n",
      "layer1.1.bn1.weight requires Grad: False\n",
      "layer1.1.bn1.bias requires Grad: False\n",
      "layer1.1.conv2.weight requires Grad: False\n",
      "layer1.1.bn2.weight requires Grad: False\n",
      "layer1.1.bn2.bias requires Grad: False\n",
      "layer2.0.conv1.weight requires Grad: True\n",
      "layer2.0.bn1.weight requires Grad: True\n",
      "layer2.0.bn1.bias requires Grad: True\n",
      "layer2.0.conv2.weight requires Grad: True\n",
      "layer2.0.bn2.weight requires Grad: True\n",
      "layer2.0.bn2.bias requires Grad: True\n",
      "layer2.0.downsample.0.weight requires Grad: True\n",
      "layer2.0.downsample.1.weight requires Grad: True\n",
      "layer2.0.downsample.1.bias requires Grad: True\n",
      "layer2.1.conv1.weight requires Grad: True\n",
      "layer2.1.bn1.weight requires Grad: True\n",
      "layer2.1.bn1.bias requires Grad: True\n",
      "layer2.1.conv2.weight requires Grad: True\n",
      "layer2.1.bn2.weight requires Grad: True\n",
      "layer2.1.bn2.bias requires Grad: True\n",
      "layer3.0.conv1.weight requires Grad: True\n",
      "layer3.0.bn1.weight requires Grad: True\n",
      "layer3.0.bn1.bias requires Grad: True\n",
      "layer3.0.conv2.weight requires Grad: True\n",
      "layer3.0.bn2.weight requires Grad: True\n",
      "layer3.0.bn2.bias requires Grad: True\n",
      "layer3.0.downsample.0.weight requires Grad: True\n",
      "layer3.0.downsample.1.weight requires Grad: True\n",
      "layer3.0.downsample.1.bias requires Grad: True\n",
      "layer3.1.conv1.weight requires Grad: True\n",
      "layer3.1.bn1.weight requires Grad: True\n",
      "layer3.1.bn1.bias requires Grad: True\n",
      "layer3.1.conv2.weight requires Grad: True\n",
      "layer3.1.bn2.weight requires Grad: True\n",
      "layer3.1.bn2.bias requires Grad: True\n",
      "layer4.0.conv1.weight requires Grad: True\n",
      "layer4.0.bn1.weight requires Grad: True\n",
      "layer4.0.bn1.bias requires Grad: True\n",
      "layer4.0.conv2.weight requires Grad: True\n",
      "layer4.0.bn2.weight requires Grad: True\n",
      "layer4.0.bn2.bias requires Grad: True\n",
      "layer4.0.downsample.0.weight requires Grad: True\n",
      "layer4.0.downsample.1.weight requires Grad: True\n",
      "layer4.0.downsample.1.bias requires Grad: True\n",
      "layer4.1.conv1.weight requires Grad: True\n",
      "layer4.1.bn1.weight requires Grad: True\n",
      "layer4.1.bn1.bias requires Grad: True\n",
      "layer4.1.conv2.weight requires Grad: True\n",
      "layer4.1.bn2.weight requires Grad: True\n",
      "layer4.1.bn2.bias requires Grad: True\n",
      "fc.0.weight requires Grad: True\n",
      "fc.0.bias requires Grad: True\n"
     ]
    }
   ],
   "source": [
    "for name,param in model.named_parameters():\n",
    "    print(f\"{name} requires Grad: {param.requires_grad}\")"
   ]
  },
  {
   "cell_type": "code",
   "execution_count": 6,
   "id": "3d531ded",
   "metadata": {
    "execution": {
     "iopub.execute_input": "2024-04-25T04:50:56.493738Z",
     "iopub.status.busy": "2024-04-25T04:50:56.492876Z",
     "iopub.status.idle": "2024-04-25T05:39:22.702402Z",
     "shell.execute_reply": "2024-04-25T05:39:22.701207Z"
    },
    "papermill": {
     "duration": 2906.216635,
     "end_time": "2024-04-25T05:39:22.704533",
     "exception": false,
     "start_time": "2024-04-25T04:50:56.487898",
     "status": "completed"
    },
    "tags": []
   },
   "outputs": [
    {
     "name": "stderr",
     "output_type": "stream",
     "text": [
      "100%|██████████| 267/267 [03:08<00:00,  1.42it/s]\n"
     ]
    },
    {
     "name": "stdout",
     "output_type": "stream",
     "text": [
      "Epoch 1, Traing Loss: 668.6255, "
     ]
    },
    {
     "name": "stderr",
     "output_type": "stream",
     "text": [
      "100%|██████████| 67/67 [00:44<00:00,  1.51it/s]\n"
     ]
    },
    {
     "name": "stdout",
     "output_type": "stream",
     "text": [
      "Val Loss: 352.2997142788173\n"
     ]
    },
    {
     "name": "stderr",
     "output_type": "stream",
     "text": [
      "100%|██████████| 31/31 [00:19<00:00,  1.57it/s]\n",
      "100%|██████████| 267/267 [01:09<00:00,  3.85it/s]\n"
     ]
    },
    {
     "name": "stdout",
     "output_type": "stream",
     "text": [
      "Epoch 2, Traing Loss: 200.3827, "
     ]
    },
    {
     "name": "stderr",
     "output_type": "stream",
     "text": [
      "100%|██████████| 67/67 [00:15<00:00,  4.40it/s]\n"
     ]
    },
    {
     "name": "stdout",
     "output_type": "stream",
     "text": [
      "Val Loss: 92.04488429290285\n"
     ]
    },
    {
     "name": "stderr",
     "output_type": "stream",
     "text": [
      "100%|██████████| 31/31 [00:06<00:00,  4.44it/s]\n",
      "100%|██████████| 267/267 [01:09<00:00,  3.84it/s]\n"
     ]
    },
    {
     "name": "stdout",
     "output_type": "stream",
     "text": [
      "Epoch 3, Traing Loss: 58.1392, "
     ]
    },
    {
     "name": "stderr",
     "output_type": "stream",
     "text": [
      "100%|██████████| 67/67 [00:14<00:00,  4.55it/s]\n"
     ]
    },
    {
     "name": "stdout",
     "output_type": "stream",
     "text": [
      "Val Loss: 73.29581898311197\n"
     ]
    },
    {
     "name": "stderr",
     "output_type": "stream",
     "text": [
      "100%|██████████| 31/31 [00:06<00:00,  4.61it/s]\n",
      "100%|██████████| 267/267 [01:08<00:00,  3.87it/s]\n"
     ]
    },
    {
     "name": "stdout",
     "output_type": "stream",
     "text": [
      "Epoch 4, Traing Loss: 30.7369, "
     ]
    },
    {
     "name": "stderr",
     "output_type": "stream",
     "text": [
      "100%|██████████| 67/67 [00:15<00:00,  4.43it/s]\n"
     ]
    },
    {
     "name": "stdout",
     "output_type": "stream",
     "text": [
      "Val Loss: 51.590336839842145\n"
     ]
    },
    {
     "name": "stderr",
     "output_type": "stream",
     "text": [
      "100%|██████████| 31/31 [00:07<00:00,  4.34it/s]\n",
      "100%|██████████| 267/267 [01:08<00:00,  3.91it/s]\n"
     ]
    },
    {
     "name": "stdout",
     "output_type": "stream",
     "text": [
      "Epoch 5, Traing Loss: 22.2465, "
     ]
    },
    {
     "name": "stderr",
     "output_type": "stream",
     "text": [
      "100%|██████████| 67/67 [00:15<00:00,  4.44it/s]\n"
     ]
    },
    {
     "name": "stdout",
     "output_type": "stream",
     "text": [
      "Val Loss: 59.30275562933481\n"
     ]
    },
    {
     "name": "stderr",
     "output_type": "stream",
     "text": [
      "100%|██████████| 31/31 [00:06<00:00,  4.58it/s]\n",
      "100%|██████████| 267/267 [01:08<00:00,  3.91it/s]\n"
     ]
    },
    {
     "name": "stdout",
     "output_type": "stream",
     "text": [
      "Epoch 6, Traing Loss: 16.8472, "
     ]
    },
    {
     "name": "stderr",
     "output_type": "stream",
     "text": [
      "100%|██████████| 67/67 [00:15<00:00,  4.25it/s]\n"
     ]
    },
    {
     "name": "stdout",
     "output_type": "stream",
     "text": [
      "Val Loss: 52.31991294353167\n"
     ]
    },
    {
     "name": "stderr",
     "output_type": "stream",
     "text": [
      "100%|██████████| 31/31 [00:06<00:00,  4.49it/s]\n",
      "100%|██████████| 267/267 [01:09<00:00,  3.83it/s]\n"
     ]
    },
    {
     "name": "stdout",
     "output_type": "stream",
     "text": [
      "Epoch 7, Traing Loss: 14.5044, "
     ]
    },
    {
     "name": "stderr",
     "output_type": "stream",
     "text": [
      "100%|██████████| 67/67 [00:14<00:00,  4.47it/s]\n"
     ]
    },
    {
     "name": "stdout",
     "output_type": "stream",
     "text": [
      "Val Loss: 53.18988305961516\n"
     ]
    },
    {
     "name": "stderr",
     "output_type": "stream",
     "text": [
      "100%|██████████| 31/31 [00:06<00:00,  4.55it/s]\n",
      "100%|██████████| 267/267 [01:10<00:00,  3.79it/s]\n"
     ]
    },
    {
     "name": "stdout",
     "output_type": "stream",
     "text": [
      "Epoch 8, Traing Loss: 10.9368, "
     ]
    },
    {
     "name": "stderr",
     "output_type": "stream",
     "text": [
      "100%|██████████| 67/67 [00:15<00:00,  4.26it/s]\n"
     ]
    },
    {
     "name": "stdout",
     "output_type": "stream",
     "text": [
      "Val Loss: 51.957577523943854\n"
     ]
    },
    {
     "name": "stderr",
     "output_type": "stream",
     "text": [
      "100%|██████████| 31/31 [00:06<00:00,  4.59it/s]\n",
      "100%|██████████| 267/267 [01:07<00:00,  3.97it/s]\n"
     ]
    },
    {
     "name": "stdout",
     "output_type": "stream",
     "text": [
      "Epoch 9, Traing Loss: 9.5451, "
     ]
    },
    {
     "name": "stderr",
     "output_type": "stream",
     "text": [
      "100%|██████████| 67/67 [00:15<00:00,  4.43it/s]\n"
     ]
    },
    {
     "name": "stdout",
     "output_type": "stream",
     "text": [
      "Val Loss: 53.8977981217017\n"
     ]
    },
    {
     "name": "stderr",
     "output_type": "stream",
     "text": [
      "100%|██████████| 31/31 [00:06<00:00,  4.49it/s]\n",
      "100%|██████████| 267/267 [01:09<00:00,  3.84it/s]\n"
     ]
    },
    {
     "name": "stdout",
     "output_type": "stream",
     "text": [
      "Epoch 10, Traing Loss: 8.2286, "
     ]
    },
    {
     "name": "stderr",
     "output_type": "stream",
     "text": [
      "100%|██████████| 67/67 [00:15<00:00,  4.33it/s]\n"
     ]
    },
    {
     "name": "stdout",
     "output_type": "stream",
     "text": [
      "Val Loss: 56.40768464793641\n"
     ]
    },
    {
     "name": "stderr",
     "output_type": "stream",
     "text": [
      "100%|██████████| 31/31 [00:06<00:00,  4.51it/s]\n",
      "100%|██████████| 267/267 [01:09<00:00,  3.83it/s]\n"
     ]
    },
    {
     "name": "stdout",
     "output_type": "stream",
     "text": [
      "Epoch 11, Traing Loss: 7.3255, "
     ]
    },
    {
     "name": "stderr",
     "output_type": "stream",
     "text": [
      "100%|██████████| 67/67 [00:15<00:00,  4.41it/s]\n"
     ]
    },
    {
     "name": "stdout",
     "output_type": "stream",
     "text": [
      "Val Loss: 50.77933649493917\n"
     ]
    },
    {
     "name": "stderr",
     "output_type": "stream",
     "text": [
      "100%|██████████| 31/31 [00:06<00:00,  4.65it/s]\n",
      "100%|██████████| 267/267 [01:10<00:00,  3.81it/s]\n"
     ]
    },
    {
     "name": "stdout",
     "output_type": "stream",
     "text": [
      "Epoch 12, Traing Loss: 6.5895, "
     ]
    },
    {
     "name": "stderr",
     "output_type": "stream",
     "text": [
      "100%|██████████| 67/67 [00:15<00:00,  4.25it/s]\n"
     ]
    },
    {
     "name": "stdout",
     "output_type": "stream",
     "text": [
      "Val Loss: 50.783076875323765\n"
     ]
    },
    {
     "name": "stderr",
     "output_type": "stream",
     "text": [
      "100%|██████████| 31/31 [00:06<00:00,  4.54it/s]\n",
      "100%|██████████| 267/267 [01:09<00:00,  3.82it/s]\n"
     ]
    },
    {
     "name": "stdout",
     "output_type": "stream",
     "text": [
      "Epoch 13, Traing Loss: 6.0890, "
     ]
    },
    {
     "name": "stderr",
     "output_type": "stream",
     "text": [
      "100%|██████████| 67/67 [00:14<00:00,  4.49it/s]\n"
     ]
    },
    {
     "name": "stdout",
     "output_type": "stream",
     "text": [
      "Val Loss: 49.673912073365976\n"
     ]
    },
    {
     "name": "stderr",
     "output_type": "stream",
     "text": [
      "100%|██████████| 31/31 [00:06<00:00,  4.50it/s]\n",
      "100%|██████████| 267/267 [01:10<00:00,  3.81it/s]\n"
     ]
    },
    {
     "name": "stdout",
     "output_type": "stream",
     "text": [
      "Epoch 14, Traing Loss: 5.9774, "
     ]
    },
    {
     "name": "stderr",
     "output_type": "stream",
     "text": [
      "100%|██████████| 67/67 [00:15<00:00,  4.39it/s]\n"
     ]
    },
    {
     "name": "stdout",
     "output_type": "stream",
     "text": [
      "Val Loss: 53.84092116065414\n"
     ]
    },
    {
     "name": "stderr",
     "output_type": "stream",
     "text": [
      "100%|██████████| 31/31 [00:07<00:00,  4.11it/s]\n",
      "100%|██████████| 267/267 [01:10<00:00,  3.80it/s]\n"
     ]
    },
    {
     "name": "stdout",
     "output_type": "stream",
     "text": [
      "Epoch 15, Traing Loss: 5.5145, "
     ]
    },
    {
     "name": "stderr",
     "output_type": "stream",
     "text": [
      "100%|██████████| 67/67 [00:14<00:00,  4.55it/s]\n"
     ]
    },
    {
     "name": "stdout",
     "output_type": "stream",
     "text": [
      "Val Loss: 49.38823985606572\n"
     ]
    },
    {
     "name": "stderr",
     "output_type": "stream",
     "text": [
      "100%|██████████| 31/31 [00:07<00:00,  4.39it/s]\n",
      "100%|██████████| 267/267 [01:10<00:00,  3.78it/s]\n"
     ]
    },
    {
     "name": "stdout",
     "output_type": "stream",
     "text": [
      "Epoch 16, Traing Loss: 4.8049, "
     ]
    },
    {
     "name": "stderr",
     "output_type": "stream",
     "text": [
      "100%|██████████| 67/67 [00:15<00:00,  4.34it/s]\n"
     ]
    },
    {
     "name": "stdout",
     "output_type": "stream",
     "text": [
      "Val Loss: 49.79782193513707\n"
     ]
    },
    {
     "name": "stderr",
     "output_type": "stream",
     "text": [
      "100%|██████████| 31/31 [00:07<00:00,  4.19it/s]\n",
      "100%|██████████| 267/267 [01:10<00:00,  3.78it/s]\n"
     ]
    },
    {
     "name": "stdout",
     "output_type": "stream",
     "text": [
      "Epoch 17, Traing Loss: 4.3544, "
     ]
    },
    {
     "name": "stderr",
     "output_type": "stream",
     "text": [
      "100%|██████████| 67/67 [00:15<00:00,  4.34it/s]\n"
     ]
    },
    {
     "name": "stdout",
     "output_type": "stream",
     "text": [
      "Val Loss: 49.846445904117715\n"
     ]
    },
    {
     "name": "stderr",
     "output_type": "stream",
     "text": [
      "100%|██████████| 31/31 [00:07<00:00,  4.28it/s]\n",
      "100%|██████████| 267/267 [01:10<00:00,  3.81it/s]\n"
     ]
    },
    {
     "name": "stdout",
     "output_type": "stream",
     "text": [
      "Epoch 18, Traing Loss: 4.1894, "
     ]
    },
    {
     "name": "stderr",
     "output_type": "stream",
     "text": [
      "100%|██████████| 67/67 [00:15<00:00,  4.41it/s]\n"
     ]
    },
    {
     "name": "stdout",
     "output_type": "stream",
     "text": [
      "Val Loss: 49.962677398796046\n"
     ]
    },
    {
     "name": "stderr",
     "output_type": "stream",
     "text": [
      "100%|██████████| 31/31 [00:06<00:00,  4.66it/s]\n",
      "100%|██████████| 267/267 [01:09<00:00,  3.85it/s]\n"
     ]
    },
    {
     "name": "stdout",
     "output_type": "stream",
     "text": [
      "Epoch 19, Traing Loss: 3.5494, "
     ]
    },
    {
     "name": "stderr",
     "output_type": "stream",
     "text": [
      "100%|██████████| 67/67 [00:15<00:00,  4.43it/s]\n"
     ]
    },
    {
     "name": "stdout",
     "output_type": "stream",
     "text": [
      "Val Loss: 49.287346154367576\n"
     ]
    },
    {
     "name": "stderr",
     "output_type": "stream",
     "text": [
      "100%|██████████| 31/31 [00:06<00:00,  4.49it/s]\n",
      "100%|██████████| 267/267 [01:09<00:00,  3.85it/s]\n"
     ]
    },
    {
     "name": "stdout",
     "output_type": "stream",
     "text": [
      "Epoch 20, Traing Loss: 3.4438, "
     ]
    },
    {
     "name": "stderr",
     "output_type": "stream",
     "text": [
      "100%|██████████| 67/67 [00:14<00:00,  4.50it/s]\n"
     ]
    },
    {
     "name": "stdout",
     "output_type": "stream",
     "text": [
      "Val Loss: 49.52200010276444\n"
     ]
    },
    {
     "name": "stderr",
     "output_type": "stream",
     "text": [
      "100%|██████████| 31/31 [00:06<00:00,  4.68it/s]\n",
      "100%|██████████| 267/267 [01:08<00:00,  3.88it/s]\n"
     ]
    },
    {
     "name": "stdout",
     "output_type": "stream",
     "text": [
      "Epoch 21, Traing Loss: 3.2330, "
     ]
    },
    {
     "name": "stderr",
     "output_type": "stream",
     "text": [
      "100%|██████████| 67/67 [00:15<00:00,  4.37it/s]\n"
     ]
    },
    {
     "name": "stdout",
     "output_type": "stream",
     "text": [
      "Val Loss: 48.77318437141912\n"
     ]
    },
    {
     "name": "stderr",
     "output_type": "stream",
     "text": [
      "100%|██████████| 31/31 [00:06<00:00,  4.58it/s]\n",
      "100%|██████████| 267/267 [01:08<00:00,  3.91it/s]\n"
     ]
    },
    {
     "name": "stdout",
     "output_type": "stream",
     "text": [
      "Epoch 22, Traing Loss: 3.5413, "
     ]
    },
    {
     "name": "stderr",
     "output_type": "stream",
     "text": [
      "100%|██████████| 67/67 [00:15<00:00,  4.46it/s]\n"
     ]
    },
    {
     "name": "stdout",
     "output_type": "stream",
     "text": [
      "Val Loss: 49.596320398075065\n"
     ]
    },
    {
     "name": "stderr",
     "output_type": "stream",
     "text": [
      "100%|██████████| 31/31 [00:06<00:00,  4.66it/s]\n",
      "100%|██████████| 267/267 [01:09<00:00,  3.87it/s]\n"
     ]
    },
    {
     "name": "stdout",
     "output_type": "stream",
     "text": [
      "Epoch 23, Traing Loss: 3.6446, "
     ]
    },
    {
     "name": "stderr",
     "output_type": "stream",
     "text": [
      "100%|██████████| 67/67 [00:15<00:00,  4.37it/s]\n"
     ]
    },
    {
     "name": "stdout",
     "output_type": "stream",
     "text": [
      "Val Loss: 48.79010424126837\n"
     ]
    },
    {
     "name": "stderr",
     "output_type": "stream",
     "text": [
      "100%|██████████| 31/31 [00:06<00:00,  4.48it/s]\n",
      "100%|██████████| 267/267 [01:09<00:00,  3.84it/s]\n"
     ]
    },
    {
     "name": "stdout",
     "output_type": "stream",
     "text": [
      "Epoch 24, Traing Loss: 3.4197, "
     ]
    },
    {
     "name": "stderr",
     "output_type": "stream",
     "text": [
      "100%|██████████| 67/67 [00:15<00:00,  4.36it/s]\n"
     ]
    },
    {
     "name": "stdout",
     "output_type": "stream",
     "text": [
      "Val Loss: 48.66332250593305\n"
     ]
    },
    {
     "name": "stderr",
     "output_type": "stream",
     "text": [
      "100%|██████████| 31/31 [00:07<00:00,  4.42it/s]\n",
      "100%|██████████| 267/267 [01:09<00:00,  3.82it/s]\n"
     ]
    },
    {
     "name": "stdout",
     "output_type": "stream",
     "text": [
      "Epoch 25, Traing Loss: 3.4606, "
     ]
    },
    {
     "name": "stderr",
     "output_type": "stream",
     "text": [
      "100%|██████████| 67/67 [00:15<00:00,  4.40it/s]\n"
     ]
    },
    {
     "name": "stdout",
     "output_type": "stream",
     "text": [
      "Val Loss: 48.159646031559355\n"
     ]
    },
    {
     "name": "stderr",
     "output_type": "stream",
     "text": [
      "100%|██████████| 31/31 [00:07<00:00,  4.30it/s]\n",
      "100%|██████████| 267/267 [01:09<00:00,  3.83it/s]\n"
     ]
    },
    {
     "name": "stdout",
     "output_type": "stream",
     "text": [
      "Epoch 26, Traing Loss: 3.1725, "
     ]
    },
    {
     "name": "stderr",
     "output_type": "stream",
     "text": [
      "100%|██████████| 67/67 [00:14<00:00,  4.49it/s]\n"
     ]
    },
    {
     "name": "stdout",
     "output_type": "stream",
     "text": [
      "Val Loss: 52.89708022570766\n"
     ]
    },
    {
     "name": "stderr",
     "output_type": "stream",
     "text": [
      "100%|██████████| 31/31 [00:06<00:00,  4.49it/s]\n",
      "100%|██████████| 267/267 [01:09<00:00,  3.83it/s]\n"
     ]
    },
    {
     "name": "stdout",
     "output_type": "stream",
     "text": [
      "Epoch 27, Traing Loss: 2.8611, "
     ]
    },
    {
     "name": "stderr",
     "output_type": "stream",
     "text": [
      "100%|██████████| 67/67 [00:15<00:00,  4.40it/s]\n"
     ]
    },
    {
     "name": "stdout",
     "output_type": "stream",
     "text": [
      "Val Loss: 48.93611069226109\n"
     ]
    },
    {
     "name": "stderr",
     "output_type": "stream",
     "text": [
      "100%|██████████| 31/31 [00:06<00:00,  4.47it/s]\n",
      "100%|██████████| 267/267 [01:09<00:00,  3.85it/s]\n"
     ]
    },
    {
     "name": "stdout",
     "output_type": "stream",
     "text": [
      "Epoch 28, Traing Loss: 3.1500, "
     ]
    },
    {
     "name": "stderr",
     "output_type": "stream",
     "text": [
      "100%|██████████| 67/67 [00:14<00:00,  4.64it/s]\n"
     ]
    },
    {
     "name": "stdout",
     "output_type": "stream",
     "text": [
      "Val Loss: 51.78128443953023\n"
     ]
    },
    {
     "name": "stderr",
     "output_type": "stream",
     "text": [
      "100%|██████████| 31/31 [00:06<00:00,  4.74it/s]\n",
      "100%|██████████| 267/267 [01:09<00:00,  3.85it/s]\n"
     ]
    },
    {
     "name": "stdout",
     "output_type": "stream",
     "text": [
      "Epoch 29, Traing Loss: 3.1624, "
     ]
    },
    {
     "name": "stderr",
     "output_type": "stream",
     "text": [
      "100%|██████████| 67/67 [00:15<00:00,  4.41it/s]\n"
     ]
    },
    {
     "name": "stdout",
     "output_type": "stream",
     "text": [
      "Val Loss: 48.88051150821589\n"
     ]
    },
    {
     "name": "stderr",
     "output_type": "stream",
     "text": [
      "100%|██████████| 31/31 [00:06<00:00,  4.58it/s]\n",
      "100%|██████████| 267/267 [01:07<00:00,  3.96it/s]\n"
     ]
    },
    {
     "name": "stdout",
     "output_type": "stream",
     "text": [
      "Epoch 30, Traing Loss: 2.7443, "
     ]
    },
    {
     "name": "stderr",
     "output_type": "stream",
     "text": [
      "100%|██████████| 67/67 [00:14<00:00,  4.50it/s]\n"
     ]
    },
    {
     "name": "stdout",
     "output_type": "stream",
     "text": [
      "Val Loss: 47.143300561449074\n"
     ]
    },
    {
     "name": "stderr",
     "output_type": "stream",
     "text": [
      "100%|██████████| 31/31 [00:06<00:00,  4.65it/s]\n"
     ]
    }
   ],
   "source": [
    "# Setup loss function and optimizer\n",
    "criterion = nn.MSELoss()\n",
    "optimizer = optim.Adam(model.parameters(), lr=0.0001)\n",
    "\n",
    "# Call the train_model function\n",
    "train_model(model, train_loader,val_loader,test_loader, criterion, optimizer, num_epochs=30)\n"
   ]
  },
  {
   "cell_type": "code",
   "execution_count": 7,
   "id": "665398b1",
   "metadata": {
    "execution": {
     "iopub.execute_input": "2024-04-25T05:39:24.722910Z",
     "iopub.status.busy": "2024-04-25T05:39:24.722156Z",
     "iopub.status.idle": "2024-04-25T05:39:31.575284Z",
     "shell.execute_reply": "2024-04-25T05:39:31.574216Z"
    },
    "papermill": {
     "duration": 7.904629,
     "end_time": "2024-04-25T05:39:31.577667",
     "exception": false,
     "start_time": "2024-04-25T05:39:23.673038",
     "status": "completed"
    },
    "tags": []
   },
   "outputs": [
    {
     "name": "stderr",
     "output_type": "stream",
     "text": [
      "100%|██████████| 31/31 [00:06<00:00,  4.54it/s]\n"
     ]
    }
   ],
   "source": [
    "###### SUBMISSION CSV FILE #####\n",
    "preds = predict(test_loader, model)\n",
    "\n",
    "submit = pd.read_csv('/kaggle/input/smai-24-age-prediction/content/faces_dataset/submission.csv')\n",
    "submit['age'] = preds\n",
    "submit.head()\n",
    "\n",
    "submit.to_csv('/kaggle/working/submission.csv',index=False)"
   ]
  }
 ],
 "metadata": {
  "kaggle": {
   "accelerator": "gpu",
   "dataSources": [
    {
     "databundleVersionId": 8130765,
     "sourceId": 74586,
     "sourceType": "competition"
    }
   ],
   "dockerImageVersionId": 30699,
   "isGpuEnabled": true,
   "isInternetEnabled": true,
   "language": "python",
   "sourceType": "notebook"
  },
  "kernelspec": {
   "display_name": "Python 3",
   "language": "python",
   "name": "python3"
  },
  "language_info": {
   "codemirror_mode": {
    "name": "ipython",
    "version": 3
   },
   "file_extension": ".py",
   "mimetype": "text/x-python",
   "name": "python",
   "nbconvert_exporter": "python",
   "pygments_lexer": "ipython3",
   "version": "3.10.13"
  },
  "papermill": {
   "default_parameters": {},
   "duration": 2929.398674,
   "end_time": "2024-04-25T05:39:34.217319",
   "environment_variables": {},
   "exception": null,
   "input_path": "__notebook__.ipynb",
   "output_path": "__notebook__.ipynb",
   "parameters": {},
   "start_time": "2024-04-25T04:50:44.818645",
   "version": "2.5.0"
  }
 },
 "nbformat": 4,
 "nbformat_minor": 5
}
